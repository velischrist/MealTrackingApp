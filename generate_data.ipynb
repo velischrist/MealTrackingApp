{
 "cells": [
  {
   "cell_type": "code",
   "execution_count": 1,
   "metadata": {},
   "outputs": [],
   "source": [
    "import numpy as np\n",
    "import csv\n",
    "import random\n",
    "import datetime"
   ]
  },
  {
   "cell_type": "code",
   "execution_count": 2,
   "metadata": {},
   "outputs": [],
   "source": [
    "# Global variables\n",
    "filepath = 'data/' # Filepath for all csv files\n",
    "num_recipes = 6742 # Number of recipes"
   ]
  },
  {
   "cell_type": "code",
   "execution_count": 3,
   "metadata": {},
   "outputs": [],
   "source": [
    "# Import the usernames from the users data\n",
    "# Generate goals for each users\n",
    "\n",
    "# Goals types and average target\n",
    "goal_types = ['calories', 'protein', 'fat', 'sugar']\n",
    "target_mean = {'calories': 2250, 'protein': 100, 'fat': 50, 'sugar': 50}\n",
    "\n",
    "# CSV filenames\n",
    "users_filename = 'users.csv'\n",
    "goals_filename = 'goals.csv'\n",
    "usernames = [] # List of usernames\n",
    "\n",
    "with open(filepath+users_filename, newline='')  as infile,\\\n",
    "    open(filepath+goals_filename, mode='w', newline='') as outfile:\n",
    "\n",
    "    # Reader and writer objects\n",
    "    reader = csv.reader(infile)\n",
    "    writer = csv.writer(outfile)\n",
    "\n",
    "    # Skip first row\n",
    "    next(reader)\n",
    "\n",
    "    # Header row\n",
    "    writer.writerow(['username', 'goal_type', 'target'])\n",
    "\n",
    "    # iterate over each row in the input CSV file\n",
    "    for row in reader:\n",
    "        username = row[0]\n",
    "        usernames.append(username)\n",
    "        for goal in goal_types:\n",
    "            target_avg = target_mean[goal]\n",
    "            target = round(np.random.normal(target_avg, target_avg/4))\n",
    "            set_goal = [username, goal, target]\n",
    "            writer.writerow(set_goal)"
   ]
  },
  {
   "cell_type": "code",
   "execution_count": 4,
   "metadata": {},
   "outputs": [
    {
     "name": "stdout",
     "output_type": "stream",
     "text": [
      "CSV file 'ratings.csv' created successfully.\n"
     ]
    }
   ],
   "source": [
    "# Generate CSV file for ratings\n",
    "\n",
    "# Define the data to be written to the CSV file\n",
    "rating_data = [['username', 'recipe_id', 'rating']]\n",
    "\n",
    "for recipe_id in range(1, num_recipes+1):\n",
    "    sample_users = random.sample(usernames, 10)\n",
    "    for username in sample_users:\n",
    "        rating = random.randint(1, 5)\n",
    "        rating_data.append([username, recipe_id, rating])\n",
    "\n",
    "# Specify the name of the CSV file\n",
    "ratings_filename = 'ratings.csv'\n",
    "\n",
    "# Open the CSV file for writing\n",
    "with open(filepath+ratings_filename, 'w', newline='') as csvfile:\n",
    "\n",
    "    # Create a CSV writer object\n",
    "    csvwriter = csv.writer(csvfile)\n",
    "\n",
    "    # Write the data to the CSV file\n",
    "    csvwriter.writerows(rating_data)\n",
    "\n",
    "print(f\"CSV file '{ratings_filename}' created successfully.\")"
   ]
  },
  {
   "cell_type": "code",
   "execution_count": 6,
   "metadata": {},
   "outputs": [],
   "source": [
    "# Generate data for meals and meal_log\n",
    "\n",
    "recipes_filename = 'food_recipes.csv'\n",
    "meals_filename = 'meals.csv'\n",
    "\n",
    "# create a list of meal names\n",
    "meal_names = ['breakfast', 'lunch', 'dinner']\n",
    "\n",
    "# open the CSV file\n",
    "with open(filepath+recipes_filename, newline='') as csvfile:\n",
    "    # create a reader object\n",
    "    reader = csv.reader(csvfile)\n",
    "    # skip the header row\n",
    "    next(reader)\n",
    "    # create a dictionary to store the recipe names by category\n",
    "    recipes_by_category = {}\n",
    "    # iterate over each row in the CSV file\n",
    "    for row in reader:\n",
    "        # get the category and recipe name from the row\n",
    "        recipe_name = row[1]\n",
    "        category = row[3].lower()\n",
    "        # add the recipe name to the list of recipes for this category\n",
    "        if category in meal_names:\n",
    "            if category in recipes_by_category:\n",
    "                recipes_by_category[category].append(recipe_name)\n",
    "            else:\n",
    "                recipes_by_category[category] = [recipe_name]\n",
    "\n",
    "# set the start date to one week ago\n",
    "start_date = datetime.datetime.today() - datetime.timedelta(days=7)\n",
    "\n",
    "with open(filepath+meals_filename, mode='w', newline='') as meal_file:\n",
    "    writer_meal = csv.writer(meal_file)\n",
    "\n",
    "    # Header rows\n",
    "    writer_meal.writerow(['meal_id', 'username', 'meal_name', 'meal_date',\\\n",
    "                          'meal_type', 'calories', 'protein', 'fat', 'sugar'])\n",
    "\n",
    "    # generate data for the past week\n",
    "    meal_id = 1\n",
    "    for i in range(7):\n",
    "        # get the date for this day\n",
    "        date = start_date + datetime.timedelta(days=i)\n",
    "        # generate a random recipe name for each meal of the day\n",
    "        for username in usernames[:10]:\n",
    "            for category in meal_names:\n",
    "                meal_name = random.choice(recipes_by_category[category])\n",
    "                calories = round(np.random.normal(600, 100))\n",
    "                protein = round(np.random.normal(35, 6))\n",
    "                fat = round(np.random.normal(14, 3))\n",
    "                sugar = round(np.random.normal(14, 3))\n",
    "                meal_date = date.strftime('%Y-%m-%d')\n",
    "                writer_meal.writerow([meal_id, username, meal_name, meal_date, \\\n",
    "                                      category, calories, protein, fat, sugar])\n",
    "                meal_id += 1"
   ]
  }
 ],
 "metadata": {
  "kernelspec": {
   "display_name": "Python 3",
   "language": "python",
   "name": "python3"
  },
  "language_info": {
   "codemirror_mode": {
    "name": "ipython",
    "version": 3
   },
   "file_extension": ".py",
   "mimetype": "text/x-python",
   "name": "python",
   "nbconvert_exporter": "python",
   "pygments_lexer": "ipython3",
   "version": "3.9.6"
  },
  "orig_nbformat": 4
 },
 "nbformat": 4,
 "nbformat_minor": 2
}
