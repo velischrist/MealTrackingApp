{
 "cells": [
  {
   "cell_type": "code",
   "execution_count": 1,
   "metadata": {},
   "outputs": [
    {
     "name": "stdout",
     "output_type": "stream",
     "text": [
      "CSV file 'ratings.csv' created successfully.\n"
     ]
    }
   ],
   "source": [
    "import csv\n",
    "import random\n",
    "\n",
    "num_users = 200 # Number of users\n",
    "num_recipes = 6742 # Number of recipes\n",
    "\n",
    "# Define the data to be written to the CSV file\n",
    "rating_data = [['user_id', 'recipe_id', 'rating']]\n",
    "\n",
    "users = range(1, num_users + 1)\n",
    "for recipe_id in range(1, num_recipes+1):\n",
    "    sample_users = random.sample(users, 10)\n",
    "    for user_id in sample_users:\n",
    "        rating = random.randint(1, 5)\n",
    "        rating_data.append([user_id, recipe_id, rating])\n",
    "\n",
    "# Specify the name of the CSV file\n",
    "filename = '/Users/velis.christ/Documents/Caltech/Winter2023/CS121/FinalProject/ratings.csv'\n",
    "\n",
    "# Open the CSV file for writing\n",
    "with open(filename, 'w', newline='') as csvfile:\n",
    "\n",
    "    # Create a CSV writer object\n",
    "    csvwriter = csv.writer(csvfile)\n",
    "\n",
    "    # Write the data to the CSV file\n",
    "    csvwriter.writerows(rating_data)\n",
    "\n",
    "print(f\"CSV file '{filename}' created successfully.\")"
   ]
  }
 ],
 "metadata": {
  "kernelspec": {
   "display_name": "Python 3",
   "language": "python",
   "name": "python3"
  },
  "language_info": {
   "codemirror_mode": {
    "name": "ipython",
    "version": 3
   },
   "file_extension": ".py",
   "mimetype": "text/x-python",
   "name": "python",
   "nbconvert_exporter": "python",
   "pygments_lexer": "ipython3",
   "version": "3.9.6"
  },
  "orig_nbformat": 4
 },
 "nbformat": 4,
 "nbformat_minor": 2
}
